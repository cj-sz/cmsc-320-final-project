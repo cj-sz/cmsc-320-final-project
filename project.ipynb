{
 "cells": [
  {
   "cell_type": "markdown",
   "metadata": {},
   "source": [
    "# An Analysis of"
   ]
  },
  {
   "cell_type": "markdown",
   "metadata": {},
   "source": [
    "### Authored by: Gavin Crisologo, Josue Melendez, Caleb Solomon, & Matthew Yu"
   ]
  },
  {
   "cell_type": "markdown",
   "metadata": {},
   "source": [
    "\n",
    "\n",
    "## Table of Contents\n",
    "### Introduction\n",
    "### [Part 1: Data Collection](#Part-1--Data-Collection)\n",
    "### [Part 2: Data Cleaning](#Part-2--Data-Cleaning)\n",
    "### [Part 3- Exploratory Data Analysis](#Part-3--Exploratory-Data-Analysis)\n",
    "### [Part 4- Model Implementation](#Part-4--Model-Implementation)\n",
    "### [Part 5- Visualizations](#Part-5--Visualizations)\n",
    "### [Part 6- Conclusions](#Part-6--Conclusions)"
   ]
  },
  {
   "cell_type": "markdown",
   "metadata": {},
   "source": [
    "## Introduction"
   ]
  },
  {
   "cell_type": "markdown",
   "metadata": {},
   "source": [
    "The purpose of this analysis and project is to walk a prospective data scientist through the data science pipeline via a worked example.  \n",
    "For this project, we will use Gapminder's information on GDP per capita for various countries around the world, and train a model to extrapolate future GDP per capita based on the following factors:\n",
    "Previous GDP per capita\n",
    "CO2 Emissions per capita\n",
    "Daily income\n"
   ]
  },
  {
   "cell_type": "markdown",
   "metadata": {},
   "source": [
    "## Part 1- Data Collection"
   ]
  },
  {
   "cell_type": "markdown",
   "metadata": {},
   "source": [
    "GDP per capita dataset from: https://www.gapminder.org/data/  (gdp_pcap.csv)\n",
    "1) Select an indicator\n",
    "2) Economy\n",
    "3) Incomes & growth\n",
    "4) GDP per capita\n",
    "\n",
    "Additional information about the dataset can be found at:  \n",
    "http://gapm.io/dgdpcap_cppp"
   ]
  },
  {
   "cell_type": "markdown",
   "metadata": {},
   "source": [
    "CO2 Emissions per capita dataset from: https://www.gapminder.org/data/  (co2_pcap_cons.csv)\n",
    "1) Select an indicator\n",
    "2) CO2 Emissions per capita\n",
    "\n",
    "Additional information about the dataset can be found at:  \n",
    "http://gapm.io/dco2_consumption_historic"
   ]
  },
  {
   "cell_type": "markdown",
   "metadata": {},
   "source": [
    "Daily income dataset from: https://www.gapminder.org/data/  (mincpcap_cppp.csv)\n",
    "1) Select an indicator\n",
    "2) Daily income\n",
    "\n",
    "Additional information about the dataset can be found at:  \n",
    "http://gapm.io/dmincpcap_cppp"
   ]
  },
  {
   "cell_type": "markdown",
   "metadata": {},
   "source": [
    "## Part 2- Data Cleaning"
   ]
  },
  {
   "cell_type": "code",
   "execution_count": 4,
   "metadata": {},
   "outputs": [],
   "source": [
    "# Import necessary libraries\n",
    "import pandas as pd"
   ]
  },
  {
   "cell_type": "code",
   "execution_count": 5,
   "metadata": {},
   "outputs": [],
   "source": [
    "# Load data from CSVs to pandas DataFrames\n",
    "co2_percap = pd.read_csv('co2_pcap_cons.csv')\n",
    "gdp_percap = pd.read_csv('gdp_pcap.csv')\n",
    "inc_day = pd.read_csv('mincpcap_cppp.csv')"
   ]
  },
  {
   "cell_type": "code",
   "execution_count": 6,
   "metadata": {},
   "outputs": [
    {
     "name": "stdout",
     "output_type": "stream",
     "text": [
      "\n",
      "GDP Per Capita Data:\n",
      "       country  1800  1801  1802  1803  1804  1805  1806  1807  1808  ...  \\\n",
      "0  Afghanistan   599   599   599   599   599   599   599   599   599  ...   \n",
      "1       Angola   465   466   469   471   472   475   477   479   481  ...   \n",
      "2      Albania   585   587   588   590   592   593   595   597   598  ...   \n",
      "3      Andorra  1710  1710  1710  1720  1720  1720  1730  1730  1730  ...   \n",
      "4          UAE  1420  1430  1430  1440  1450  1450  1460  1460  1470  ...   \n",
      "\n",
      "    2091   2092   2093   2094   2095   2096   2097   2098   2099   2100  \n",
      "0   4800   4910   5030   5150   5270   5390   5520   5650   5780   5920  \n",
      "1  24.8k  25.3k  25.9k  26.4k  26.9k  27.4k    28k  28.5k  29.1k  29.6k  \n",
      "2    54k  54.6k  55.2k  55.8k  56.4k  56.9k  57.5k  58.1k  58.7k  59.2k  \n",
      "3  79.3k  79.5k  79.8k  80.1k  80.4k  80.7k    81k  81.2k  81.5k  81.8k  \n",
      "4  92.5k  92.6k  92.6k  92.7k  92.8k  92.9k  92.9k    93k  93.1k  93.1k  \n",
      "\n",
      "[5 rows x 302 columns]\n"
     ]
    }
   ],
   "source": [
    "# Display GDP per capita dataset\n",
    "print(\"\\nGDP Per Capita Data:\")\n",
    "print(gdp_percap.head())"
   ]
  },
  {
   "cell_type": "code",
   "execution_count": 7,
   "metadata": {},
   "outputs": [
    {
     "name": "stdout",
     "output_type": "stream",
     "text": [
      "CO2 Per Capita Consumption Data:\n",
      "       country   1800   1801   1802   1803   1804   1805   1806   1807   1808  \\\n",
      "0  Afghanistan  0.001  0.001  0.001  0.001  0.001  0.001  0.001  0.001  0.001   \n",
      "1       Angola  0.009  0.009  0.009  0.009  0.009  0.009  0.010  0.010  0.010   \n",
      "2      Albania  0.001  0.001  0.001  0.001  0.001  0.001  0.001  0.001  0.001   \n",
      "3      Andorra  0.333  0.335  0.337  0.340  0.342  0.345  0.347  0.350  0.352   \n",
      "4          UAE  0.063  0.063  0.064  0.064  0.064  0.064  0.065  0.065  0.065   \n",
      "\n",
      "   ...  2013    2014    2015    2016    2017    2018    2019    2020    2021  \\\n",
      "0  ...  0.28   0.253   0.262   0.245   0.247   0.254   0.261   0.261   0.279   \n",
      "1  ...  1.28   1.640   1.220   1.180   1.150   1.120   1.150   1.120   1.200   \n",
      "2  ...  2.27   2.250   2.040   2.010   2.130   2.080   2.050   2.000   2.120   \n",
      "3  ...   5.9   5.830   5.970   6.070   6.270   6.120   6.060   5.630   5.970   \n",
      "4  ...    27  26.800  27.000  26.700  23.900  23.500  21.200  19.700  20.700   \n",
      "\n",
      "     2022  \n",
      "0   0.284  \n",
      "1   1.230  \n",
      "2   2.100  \n",
      "3   5.910  \n",
      "4  21.100  \n",
      "\n",
      "[5 rows x 224 columns]\n"
     ]
    }
   ],
   "source": [
    "# Display CO2 per capita dataset\n",
    "print(\"CO2 Per Capita Consumption Data:\")\n",
    "print(co2_percap.head())"
   ]
  },
  {
   "cell_type": "code",
   "execution_count": 8,
   "metadata": {},
   "outputs": [
    {
     "name": "stdout",
     "output_type": "stream",
     "text": [
      "\n",
      "Income Per Capita Data:\n",
      "       country   1800   1801   1802   1803   1804   1805   1806   1807   1808  \\\n",
      "0  Afghanistan  1.330  1.330  1.330  1.330  1.330  1.330  1.330  1.330  1.330   \n",
      "1       Angola  0.779  0.781  0.785  0.789  0.791  0.795  0.799  0.802  0.806   \n",
      "2      Albania  0.919  0.921  0.924  0.927  0.929  0.932  0.935  0.937  0.940   \n",
      "3      Andorra  1.880  1.880  1.880  1.890  1.890  1.890  1.900  1.900  1.900   \n",
      "4          UAE  1.650  1.660  1.670  1.670  1.680  1.680  1.690  1.700  1.700   \n",
      "\n",
      "   ...   2091   2092   2093   2094   2095   2096   2097   2098   2099   2100  \n",
      "0  ...   10.7   10.9   11.2   11.4   11.7   12.0   12.3   12.6   12.8   13.2  \n",
      "1  ...   19.8   20.2   20.6   21.0   21.4   21.9   22.3   22.7   23.2   23.6  \n",
      "2  ...   56.7   57.4   58.0   58.6   59.2   59.8   60.5   61.1   61.7   62.3  \n",
      "3  ...   87.1   87.4   87.8   88.1   88.4   88.7   89.0   89.3   89.6   89.9  \n",
      "4  ...  102.0  102.0  102.0  102.0  102.0  102.0  102.0  102.0  102.0  103.0  \n",
      "\n",
      "[5 rows x 302 columns]\n"
     ]
    }
   ],
   "source": [
    "# Display Daily income dataset\n",
    "print(\"\\nIncome Per Capita Data:\")\n",
    "print(inc_day.head())"
   ]
  },
  {
   "cell_type": "code",
   "execution_count": 9,
   "metadata": {},
   "outputs": [],
   "source": [
    "# Identify common countries across all three datasets\n",
    "common_countries = set(co2_percap['country']) & set(gdp_percap['country']) & set(inc_day['country'])"
   ]
  },
  {
   "cell_type": "code",
   "execution_count": 10,
   "metadata": {},
   "outputs": [],
   "source": [
    "# Filter DataFrames and keep only the common countries\n",
    "co2_percap = co2_percap[co2_percap['country'].isin(common_countries)]\n",
    "gdp_percap = gdp_percap[gdp_percap['country'].isin(common_countries)]\n",
    "inc_day = inc_day[inc_day['country'].isin(common_countries)]"
   ]
  },
  {
   "cell_type": "code",
   "execution_count": 11,
   "metadata": {},
   "outputs": [],
   "source": [
    "# Drop columns with years > 2024 (to avoid predictions not our own)\n",
    "columns_to_keep_co2 = ['country'] + [col for col in co2_percap.columns[1:] if col.isdigit() and int(col) <= 2024]\n",
    "columns_to_keep_gdp = ['country'] + [col for col in gdp_percap.columns[1:] if col.isdigit() and int(col) <= 2024]\n",
    "columns_to_keep_inc = ['country'] + [col for col in inc_day.columns[1:] if col.isdigit() and int(col) <= 2024]\n",
    "\n",
    "co2_percap = co2_percap[columns_to_keep_co2]\n",
    "gdp_percap = gdp_percap[columns_to_keep_gdp]\n",
    "inc_day = inc_day[columns_to_keep_inc]"
   ]
  },
  {
   "cell_type": "code",
   "execution_count": null,
   "metadata": {},
   "outputs": [],
   "source": [
    "# Check for null values in each dataframe\n",
    "print(\"\\nNull values in CO2 Per Capita Data:\")\n",
    "print(co2_percap.isnull().sum())\n",
    "print(\"\\nNull values in GDP Per Capita Data:\")\n",
    "print(gdp_percap.isnull().sum())\n",
    "print(\"\\nNull values in Daily Income Data:\")\n",
    "print(inc_day.isnull().sum())"
   ]
  },
  {
   "cell_type": "code",
   "execution_count": 12,
   "metadata": {},
   "outputs": [
    {
     "name": "stdout",
     "output_type": "stream",
     "text": [
      "\n",
      "Filtered CO2 Per Capita Consumption Data:\n",
      "       country   1800   1801   1802   1803   1804   1805   1806   1807   1808  \\\n",
      "0  Afghanistan  0.001  0.001  0.001  0.001  0.001  0.001  0.001  0.001  0.001   \n",
      "1       Angola  0.009  0.009  0.009  0.009  0.009  0.009  0.010  0.010  0.010   \n",
      "2      Albania  0.001  0.001  0.001  0.001  0.001  0.001  0.001  0.001  0.001   \n",
      "3      Andorra  0.333  0.335  0.337  0.340  0.342  0.345  0.347  0.350  0.352   \n",
      "4          UAE  0.063  0.063  0.064  0.064  0.064  0.064  0.065  0.065  0.065   \n",
      "\n",
      "   ...  2013    2014    2015    2016    2017    2018    2019    2020    2021  \\\n",
      "0  ...  0.28   0.253   0.262   0.245   0.247   0.254   0.261   0.261   0.279   \n",
      "1  ...  1.28   1.640   1.220   1.180   1.150   1.120   1.150   1.120   1.200   \n",
      "2  ...  2.27   2.250   2.040   2.010   2.130   2.080   2.050   2.000   2.120   \n",
      "3  ...   5.9   5.830   5.970   6.070   6.270   6.120   6.060   5.630   5.970   \n",
      "4  ...    27  26.800  27.000  26.700  23.900  23.500  21.200  19.700  20.700   \n",
      "\n",
      "     2022  \n",
      "0   0.284  \n",
      "1   1.230  \n",
      "2   2.100  \n",
      "3   5.910  \n",
      "4  21.100  \n",
      "\n",
      "[5 rows x 224 columns]\n",
      "\n",
      "Filtered GDP Per Capita Data:\n",
      "       country  1800  1801  1802  1803  1804  1805  1806  1807  1808  ...  \\\n",
      "0  Afghanistan   599   599   599   599   599   599   599   599   599  ...   \n",
      "1       Angola   465   466   469   471   472   475   477   479   481  ...   \n",
      "2      Albania   585   587   588   590   592   593   595   597   598  ...   \n",
      "3      Andorra  1710  1710  1710  1720  1720  1720  1730  1730  1730  ...   \n",
      "4          UAE  1420  1430  1430  1440  1450  1450  1460  1460  1470  ...   \n",
      "\n",
      "    2015   2016   2017   2018   2019   2020   2021   2022   2023   2024  \n",
      "0   2110   2100   2100   2060   2080   1970   1520   1430   1400   1370  \n",
      "1   7970   7490   7220   6880   6600   6030   5910   5910   5810   5820  \n",
      "2  11.9k  12.3k  12.8k  13.3k  13.7k  13.3k  14.6k  15.5k  16.1k  16.7k  \n",
      "3  56.5k  57.5k  56.4k  56.2k  56.3k  49.7k  52.8k    56k  55.7k  55.2k  \n",
      "4  68.1k  71.2k  71.2k  71.6k  71.8k  67.7k  69.7k  74.3k  75.3k  76.9k  \n",
      "\n",
      "[5 rows x 226 columns]\n",
      "\n",
      "Filtered Income Per Capita Data:\n",
      "       country   1800   1801   1802   1803   1804   1805   1806   1807   1808  \\\n",
      "0  Afghanistan  1.330  1.330  1.330  1.330  1.330  1.330  1.330  1.330  1.330   \n",
      "1       Angola  0.779  0.781  0.785  0.789  0.791  0.795  0.799  0.802  0.806   \n",
      "2      Albania  0.919  0.921  0.924  0.927  0.929  0.932  0.935  0.937  0.940   \n",
      "3      Andorra  1.880  1.880  1.880  1.890  1.890  1.890  1.900  1.900  1.900   \n",
      "4          UAE  1.650  1.660  1.670  1.670  1.680  1.680  1.690  1.700  1.700   \n",
      "\n",
      "   ...   2015   2016   2017   2018   2019   2020   2021   2022   2023   2024  \n",
      "0  ...   4.68   4.67   4.66   4.58   4.62   4.37   3.37   3.17   3.10   3.04  \n",
      "1  ...   5.77   5.67   5.58   5.48   5.26   4.81   4.71   4.71   4.63   4.64  \n",
      "2  ...  12.10  11.20  11.40  12.10  13.70  14.00  15.30  16.30  16.90  17.50  \n",
      "3  ...  62.00  63.10  61.90  61.80  61.90  54.70  58.00  61.60  61.30  60.60  \n",
      "4  ...  74.90  76.20  77.50  78.80  79.00  74.50  76.80  81.80  82.90  84.70  \n",
      "\n",
      "[5 rows x 226 columns]\n"
     ]
    }
   ],
   "source": [
    "# Display the first few rows of each filtered dataframe\n",
    "print(\"\\nFiltered CO2 Per Capita Data:\")\n",
    "print(co2_percap.head())\n",
    "print(\"\\nFiltered GDP Per Capita Data:\")\n",
    "print(gdp_percap.head())\n",
    "print(\"\\nFiltered Daily Income Data:\")\n",
    "print(inc_day.head())"
   ]
  },
  {
   "cell_type": "markdown",
   "metadata": {},
   "source": [
    "## Part 3- Exploratory Data Analysis"
   ]
  },
  {
   "cell_type": "markdown",
   "metadata": {},
   "source": [
    "## Part 4- Model Implementation"
   ]
  },
  {
   "cell_type": "markdown",
   "metadata": {},
   "source": [
    "## Part 5- Visualizations"
   ]
  },
  {
   "cell_type": "markdown",
   "metadata": {},
   "source": [
    "## Part 6- Conclusions"
   ]
  }
 ],
 "metadata": {
  "kernelspec": {
   "display_name": "base",
   "language": "python",
   "name": "python3"
  },
  "language_info": {
   "codemirror_mode": {
    "name": "ipython",
    "version": 3
   },
   "file_extension": ".py",
   "mimetype": "text/x-python",
   "name": "python",
   "nbconvert_exporter": "python",
   "pygments_lexer": "ipython3",
   "version": "3.11.5"
  }
 },
 "nbformat": 4,
 "nbformat_minor": 2
}
