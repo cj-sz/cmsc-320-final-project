{
 "cells": [
  {
   "cell_type": "markdown",
   "metadata": {},
   "source": [
    "# An Analysis of"
   ]
  },
  {
   "cell_type": "markdown",
   "metadata": {},
   "source": [
    "### Authored by: Gavin Crisologo, Josue Melendez, Caleb Solomon, & Matthew Yu"
   ]
  },
  {
   "cell_type": "markdown",
   "metadata": {},
   "source": [
    "\n",
    "\n",
    "## Table of Contents\n",
    "### Introduction\n",
    "### [Part 1: Data Collection](#Part-1--Data-Collection)\n",
    "### [Part 2: Data Cleaning](#Part-2--Data-Cleaning)\n",
    "### [Part 3: Exploratory Data Analysis](#Part-3--Exploratory-Data-Analysis)\n",
    "### [Part 4: Model Implementation](#Part-4--Model-Implementation)\n",
    "### [Part 5: Visualizations](#Part-5--Visualizations)\n",
    "### [Part 6: Conclusions](#Part-6--Conclusions)"
   ]
  },
  {
   "cell_type": "markdown",
   "metadata": {},
   "source": [
    "## Introduction"
   ]
  },
  {
   "cell_type": "markdown",
   "metadata": {},
   "source": [
    "Welcome! When discussing data science in the field of finance and economics, things can be confusing. Not only are there plenty of ways to use data science in economics but there are dozens of topics that can be covered, such as economic forecasting or financial consulting. To make this learning process easier for any prospective data scientist, this tutorial has been made to guide you through the process of obtaining data, cleaning it, and modeling it for any future projects. For the purposes of this tutorial, we will be looking at using data science principles in the context of modeling economic health using GDP and GDP per capita..\n",
    "\n",
    "But what are Gross Domestic Product and Gross Domestic Product per capita?\n",
    "\n",
    "Gross Domestic Product, otherwise known as GDP, is the measure of the total monetary value of all goods and services produced in a country throughout a period of time and is typically measured anually. It is an enormous measurement, accounting for everything from gum at a gas station to professional medical services. It represents the production power of an economy and is used in a variety of applications from economic forecasting to policy making to business and investment strategies. \n",
    "\n",
    "Gross Domestic Product per capita refers to an individuals average economic output. It is measured by dividing Gross Domestic Product by the population size. GDP per capita provides an indicaor for the economic prosperity and standard of living within a country. \n",
    "\n",
    "Throughout this tutorial we will be referring to any instance of Gross Domestic Product as GDP, and will be using a GDP per capita dataset alongside a C02 per capita and daily income datasets to create future GDP per capita predictions. To learn more about GDP per capita, its definition and its uses please visit [here](https://www.investopedia.com/terms/p/per-capita-gdp.asp).\n",
    "\n",
    "But how can we use it?\n",
    "\n",
    "Often, when discussing how to use various metrics such as GDP, the \"how\" of the process is often overlooked or neglected. While it is not wrong to say GDP data can be used for all sorts of things, there are various questions as to how to clean, organize, and use the data that arise in the process. These questions are what the tutorial will answer today. \n",
    "\n",
    "Throughout the tutorial we will be covering the following aspects of data science in the context of GDP data:\n",
    "\n",
    "1. Data Collection\n",
    "2. Data Cleaning \n",
    "3. Exploratory Data Analysis\n",
    "4. Model Implementation \n",
    "5. Visualization\n",
    "6. Conclusions and Next Steps\n",
    "\n",
    "\n",
    "\n",
    "\n"
   ]
  },
  {
   "cell_type": "markdown",
   "metadata": {},
   "source": [
    "## Part 1 - Data Collection"
   ]
  },
  {
   "cell_type": "markdown",
   "metadata": {},
   "source": [
    "As mentioned in the [Introduction](#introduction), we will be using 3 data sets to create machine learning models and predict future GDP per capita. The 3 datasets contain data relating to:\n",
    "\n",
    "1. Previous GDP per capita\n",
    "2. CO2 Emissions per capita\n",
    "3. Daily income\n",
    "\n",
    "All three datasets used here have been gathered from Gapminder. Gapminder is an educational non-profit that aims to \"fight devastating ignorance\" and tackles misconceptions regarding trending topics by using reliable data to create teaching materials to rid people of their ignorance. To this end, Gapminder has allowed free access to various relevant and reliable datasets, allowing anyone to freely access their datasets and use the data to educate themselves. If you're interested in learning more about Gapminder, its mission, and its resources please go [here](https://www.gapminder.org/).\n",
    "\n",
    "We have aditionally provided a guide on how to access every dataset used. Each dataset detailed below provides a link to Gapminders dataset directory, along with instructions on how to go about finding the specific dataset used. Finally, each dataset provides a link to learn more about the set and how it can be used."
   ]
  },
  {
   "cell_type": "markdown",
   "metadata": {},
   "source": [
    "GDP per capita dataset from: https://www.gapminder.org/data/  (gdp_pcap.csv)\n",
    "1) Select an indicator\n",
    "2) Economy\n",
    "3) Incomes & growth\n",
    "4) GDP per capita\n",
    "\n",
    "Additional information about the dataset can be found at:  \n",
    "http://gapm.io/dgdpcap_cppp"
   ]
  },
  {
   "cell_type": "markdown",
   "metadata": {},
   "source": [
    "CO2 Emissions per capita dataset from: https://www.gapminder.org/data/  (co2_pcap_cons.csv)\n",
    "1) Select an indicator\n",
    "2) CO2 Emissions per capita\n",
    "\n",
    "Additional information about the dataset can be found at:  \n",
    "http://gapm.io/dco2_consumption_historic"
   ]
  },
  {
   "cell_type": "markdown",
   "metadata": {},
   "source": [
    "Daily income dataset from: https://www.gapminder.org/data/  (mincpcap_cppp.csv)\n",
    "1) Select an indicator\n",
    "2) Daily income\n",
    "\n",
    "Additional information about the dataset can be found at:  \n",
    "http://gapm.io/dmincpcap_cppp"
   ]
  },
  {
   "cell_type": "markdown",
   "metadata": {},
   "source": [
    "## Part 2 - Data Cleaning"
   ]
  },
  {
   "cell_type": "markdown",
   "metadata": {},
   "source": [
    "Now that our datasets have been collected, it is time to clean them. Cleaning data refers to taking datasets and correcting any errors, inaccuracies or inconsistencies. This is done to ensure the reliability and accuracy of our data, as \"dirty\" datasets can lead to various errors, such as inaccurate predictions, biased results, etc. We first begin by importing any and all necessary libraries."
   ]
  },
  {
   "cell_type": "markdown",
   "metadata": {},
   "source": [
    "### Imports"
   ]
  },
  {
   "cell_type": "code",
   "execution_count": null,
   "metadata": {},
   "outputs": [],
   "source": [
    "import pandas as pd\n",
    "import matplotlib.pyplot as plt\n",
    "import numpy as np\n",
    "from sklearn.model_selection import train_test_split\n",
    "from sklearn.preprocessing import MinMaxScaler"
   ]
  },
  {
   "cell_type": "markdown",
   "metadata": {},
   "source": [
    "We begin by using pandas (imported above) to read in the dataset csv's, gathered from downloading the datasets from Gapminder. Pandas provides a useful function called read_csv() that will take in the string name of the datasets as in argument, and will read in the datasets to pandas DataFrames.\n",
    "\n",
    "Pandas is a python library that is regularly used by data scientists to clea, explore, and analyze various datasets. To learn more about pandas and its capabilities please visit [this link](https://pandas.pydata.org/)"
   ]
  },
  {
   "cell_type": "code",
   "execution_count": null,
   "metadata": {},
   "outputs": [],
   "source": [
    "# Load data from CSVs to pandas DataFrames\n",
    "co2_percap = pd.read_csv('co2_pcap_cons.csv')\n",
    "gdp_percap = pd.read_csv('gdp_pcap.csv')\n",
    "inc_day = pd.read_csv('mincpcap_cppp.csv')"
   ]
  },
  {
   "cell_type": "markdown",
   "metadata": {},
   "source": [
    "We then display the raw, unclean, data to get a glimpse of the structure of the data. We see that is structured with countries as rows, columns as years and its respective subject as a field (ex: C02 emissions), allowing for easy access."
   ]
  },
  {
   "cell_type": "code",
   "execution_count": null,
   "metadata": {},
   "outputs": [],
   "source": [
    "# Display GDP per capita dataset\n",
    "print(\"\\nGDP Per Capita Data:\")\n",
    "print(gdp_percap.head())"
   ]
  },
  {
   "cell_type": "code",
   "execution_count": null,
   "metadata": {},
   "outputs": [],
   "source": [
    "# Display CO2 per capita dataset\n",
    "print(\"CO2 Per Capita Consumption Data:\")\n",
    "print(co2_percap.head())"
   ]
  },
  {
   "cell_type": "code",
   "execution_count": null,
   "metadata": {},
   "outputs": [],
   "source": [
    "# Display Daily income dataset\n",
    "print(\"\\nIncome Per Capita Data:\")\n",
    "print(inc_day.head())"
   ]
  },
  {
   "cell_type": "code",
   "execution_count": null,
   "metadata": {},
   "outputs": [],
   "source": [
    "# Identify common countries across all three datasets\n",
    "common_countries = set(co2_percap['country']) & set(gdp_percap['country']) & set(inc_day['country'])"
   ]
  },
  {
   "cell_type": "code",
   "execution_count": null,
   "metadata": {},
   "outputs": [],
   "source": [
    "# Filter DataFrames and keep only the common countries\n",
    "co2_percap = co2_percap[co2_percap['country'].isin(common_countries)]\n",
    "gdp_percap = gdp_percap[gdp_percap['country'].isin(common_countries)]\n",
    "inc_day = inc_day[inc_day['country'].isin(common_countries)]"
   ]
  },
  {
   "cell_type": "code",
   "execution_count": null,
   "metadata": {},
   "outputs": [],
   "source": [
    "# Drop columns with years > 2024 (to avoid predictions not our own)\n",
    "columns_to_keep_co2 = ['country'] + [col for col in co2_percap.columns[1:] if col.isdigit() and int(col) <= 2024]\n",
    "columns_to_keep_gdp = ['country'] + [col for col in gdp_percap.columns[1:] if col.isdigit() and int(col) <= 2024]\n",
    "columns_to_keep_inc = ['country'] + [col for col in inc_day.columns[1:] if col.isdigit() and int(col) <= 2024]\n",
    "\n",
    "co2_percap = co2_percap[columns_to_keep_co2]\n",
    "gdp_percap = gdp_percap[columns_to_keep_gdp]\n",
    "inc_day = inc_day[columns_to_keep_inc]"
   ]
  },
  {
   "cell_type": "code",
   "execution_count": null,
   "metadata": {},
   "outputs": [],
   "source": [
    "# Convert numerics to floats and coerce errors to homogenize dataset\n",
    "def num_to_float(df):\n",
    "    for col in df.columns[1:]:\n",
    "        df[col] = pd.to_numeric(df[col].astype(str).str.replace(',', '').str.replace('−', '-'), errors='coerce')\n",
    "    return df\n",
    "\n",
    "co2_percap = num_to_float(co2_percap)\n",
    "gdp_percap = num_to_float(gdp_percap)\n",
    "inc_day = num_to_float(inc_day)"
   ]
  },
  {
   "cell_type": "code",
   "execution_count": null,
   "metadata": {},
   "outputs": [],
   "source": [
    "# Check for null values in each dataframe\n",
    "print(\"\\nNull values in CO2 Per Capita Data:\")\n",
    "print(co2_percap.isnull().sum().sum())\n",
    "print(\"\\nNull values in GDP Per Capita Data:\")\n",
    "print(gdp_percap.isnull().sum().sum())\n",
    "print(\"\\nNull values in Daily Income Data:\")\n",
    "print(inc_day.isnull().sum().sum())"
   ]
  },
  {
   "cell_type": "code",
   "execution_count": null,
   "metadata": {},
   "outputs": [],
   "source": [
    "# Display the first few rows of each filtered dataframe\n",
    "print(\"\\nFiltered CO2 Per Capita Data:\")\n",
    "print(co2_percap.head())\n",
    "print(\"\\nFiltered GDP Per Capita Data:\")\n",
    "print(gdp_percap.head())\n",
    "print(\"\\nFiltered Daily Income Data:\")\n",
    "print(inc_day.head())"
   ]
  },
  {
   "cell_type": "markdown",
   "metadata": {},
   "source": [
    "## Part 3 - Exploratory Data Analysis\n",
    "\n",
    "First, we'd like to get a general view of what our dataset looks like visually, and get some preliminary ideas of common trends in order to make hypotheses about our model. We do this by first examining each dataset in its entirety, and then honing in on specific years and criteria relevant to our discussion."
   ]
  },
  {
   "cell_type": "code",
   "execution_count": null,
   "metadata": {},
   "outputs": [],
   "source": [
    "# Plot CO2 per capita over time for each country\n",
    "plt.figure(figsize=(10, 5))\n",
    "for country in co2_percap['country']:\n",
    "    years = co2_percap.columns[1:].astype(int)\n",
    "    emissions = co2_percap[co2_percap['country'] == country].values[0][1:].astype(float)\n",
    "    plt.plot(years, emissions, label=country)\n",
    "plt.xlabel('Year')\n",
    "plt.ylabel('CO2 Emissions per Capita')\n",
    "plt.title('CO2 Emissions per Capita Over Time by Country')\n",
    "# Tighten the legend so the plot isn't so big\n",
    "plt.legend(loc='upper center', bbox_to_anchor=(0.5, -0.15), ncol=4)\n",
    "plt.tight_layout()\n",
    "plt.show()\n",
    "\n",
    "# Plot GDP per capita over time for each country\n",
    "plt.figure(figsize=(10, 5))\n",
    "for country in gdp_percap['country']:\n",
    "    years = gdp_percap.columns[1:].astype(int)\n",
    "    gdp = gdp_percap[gdp_percap['country'] == country].values[0][1:].astype(float)\n",
    "    plt.plot(years, gdp, label=country)\n",
    "plt.xlabel('Year')\n",
    "plt.ylabel('GDP per Capita')\n",
    "plt.title('GDP per Capita Over Time by Country')\n",
    "plt.legend(loc='upper center', bbox_to_anchor=(0.5, -0.15), ncol=4) \n",
    "plt.tight_layout()\n",
    "plt.show()\n",
    "\n",
    "# Plot Daily Income per capita over time for each country\n",
    "plt.figure(figsize=(10, 5))\n",
    "for country in inc_day['country']:\n",
    "    years = inc_day.columns[1:].astype(int)\n",
    "    income = inc_day[inc_day['country'] == country].values[0][1:].astype(float)\n",
    "    plt.plot(years, income, label=country)\n",
    "plt.xlabel('Year')\n",
    "plt.ylabel('Daily Income per Capita')\n",
    "plt.title('Daily Income per Capita Over Time by Country')\n",
    "plt.legend(loc='upper center', bbox_to_anchor=(0.5, -0.15), ncol=4)\n",
    "plt.tight_layout()\n",
    "plt.show()\n"
   ]
  },
  {
   "cell_type": "markdown",
   "metadata": {},
   "source": [
    "Clearly, these graphs are massive and cluttered; while there is an apparent general upward trend in all cases (as we would expect), the GDP per capita graph especially is incredibly difficult to read, and indeed very little useful information can be garnered from it. Consequently we would like to analyze smaller samples of the data to perhaps gain a greater understanding of interesting sub-trends that a model could perhaps generalize. We take the following four potentially interesting cases based on a knowledge of history and a cursory glance at the above. For each of these, we provide a set of three graphs, one for each dataset, to visualize each of our three metrics.\n",
    "\n",
    "1) High Emissions Countries\n",
    "\n",
    "Such countries would be those with the broadest industrialization infrastructure that we expect to have massive carbon emissions. For these, we include the USA, China, Russia, India, and Japan.\n",
    "\n",
    "2) Various European Countries\n",
    "\n",
    "This allows us to get a gauge of potential trends on one subregion of the world.\n",
    "\n",
    "3) \"Developed\" Countries\n",
    "\n",
    "A set of countries considered to be \"developed,\" first-world nations. We should expect these to have matured industrial economies.\n",
    "\n",
    "4) \"Developing\" Countries\n",
    "\n",
    "Opposite case 3, this might give us a gauge of potential trends (or potential volatility!) of nations whose industrial economies and transition we might not expect to have completely stabilized."
   ]
  },
  {
   "cell_type": "code",
   "execution_count": null,
   "metadata": {},
   "outputs": [],
   "source": [
    "limiting_criteria_sets = [\n",
    "    ('High Emission Countries', ['USA', 'China', 'India', 'Russia', 'Japan']),\n",
    "    ('European Countries', ['UK', 'Germany', 'France', 'Italy', 'Spain']),\n",
    "    ('Developed Countries', ['USA', 'Germany', 'UK', 'France', 'Japan']),\n",
    "    ('Developing Countries', ['India', 'China', 'Brazil', 'South Africa', 'Nigeria'])\n",
    "]\n",
    "\n",
    "# Function to plot CO2 Emissions per Capita, GDP per Capita, and Income per Day data for a given set of countries\n",
    "def plot_data(countries, title_prefix, datasets, set_names):\n",
    "    # Generate a figure\n",
    "    fig = plt.figure(figsize=(12, 12))\n",
    "    \n",
    "    # Loop through datasets\n",
    "    for i in range(len(datasets)):\n",
    "        # Grab years and generate a subplot grid\n",
    "        years = datasets[i].columns[1:].astype(int)\n",
    "        ax = plt.subplot2grid((2, 2), (i // 2, i % 2))\n",
    "        \n",
    "        # Keep the max for margin cutoffs\n",
    "        m = 0\n",
    "        for country in countries:\n",
    "            # Iterate through countries in the limiting sets, grabbing and adding their data\n",
    "            data = datasets[i][datasets[i]['country'] == country].values[0][1:].astype(float)\n",
    "            ax.plot(years, data, label=country)\n",
    "            m = max(m, max(data))\n",
    "\n",
    "        # Labeling and cleaning\n",
    "        ax.set_ylabel(f'{set_names[i]} per Capita (metric tons)')\n",
    "        ax.set_xlabel('Year')\n",
    "        ax.set_xticks(years[::50]) # 50 year increments for cleanliness\n",
    "\n",
    "        ax.set_title(f'{title_prefix} - {set_names[i]} per Capita')\n",
    "        ax.legend(loc='upper left', bbox_to_anchor=(1, 1))\n",
    "        ax.set_ylim(0, m * 1.1)  # Ensure y-axis includes all data\n",
    "\n",
    "    plt.tight_layout()\n",
    "    plt.show()\n",
    "\n",
    "# Loop over each set of limiting criteria and generate CO2 Emissions per Capita, GDP per Capita, and Income per Day (per capita) plots\n",
    "for title_prefix, countries in limiting_criteria_sets:\n",
    "    plot_data(countries, title_prefix, [co2_percap, gdp_percap, inc_day], ['CO2 Emissions', 'GDP', 'Daily Income'])\n"
   ]
  },
  {
   "cell_type": "code",
   "execution_count": null,
   "metadata": {},
   "outputs": [],
   "source": [
    "# This is just something I used to grab the encodings of countries, for example 'United States' is actually 'USA' in these datasets\n",
    "print(co2_percap['country'].unique())"
   ]
  },
  {
   "cell_type": "markdown",
   "metadata": {},
   "source": [
    "From these plots, we can see general, upwards exponential-like trends; however, as reflected in the original large graphs and still visible from these, GDP per capita is much more volatile than the other two measures. As a potentially interesting question, we now ask if there is any relationship between carbon dioxide emissions per capita and the GDP per capita in predicting daily income; that is, do changes in what we might expect to be an indicator of a mature, industrial economy, as well as changes in the GDP, predict the direction and magnitude of the change in income per capita?"
   ]
  },
  {
   "cell_type": "markdown",
   "metadata": {},
   "source": [
    "## Part 4 - Model Implementation"
   ]
  },
  {
   "cell_type": "markdown",
   "metadata": {},
   "source": [
    "We want to use all data prior to 2015 as training data. We'll then set up a univariate model to predict income per day based solely on co2 emissions, and then a multivariate model based on co2 emissions and gdp per capita as predictors to see if the inclusion of gdp improves the model performance. For our model, we will use gradient descent.\n",
    "\n",
    "First, we create our test sets of data:"
   ]
  },
  {
   "cell_type": "code",
   "execution_count": null,
   "metadata": {},
   "outputs": [],
   "source": [
    "# Using data prior to 2015 as the test dataset\n",
    "co2_percap_train = co2_percap.drop(columns=[str(year) for year in range(2015, 2023)])\n",
    "gdp_percap_train = gdp_percap.drop(columns=[str(year) for year in range(2015, 2023)])\n",
    "inc_day_train = inc_day.drop(columns=[str(year) for year in range(2015, 2023)])\n",
    "\n",
    "# Get all country averages\n",
    "co2_percap_mean = co2_percap_train.set_index('country').mean(axis=1).reset_index()\n",
    "gdp_percap_mean = gdp_percap_train.set_index('country').mean(axis=1).reset_index()\n",
    "inc_day_mean = inc_day_train.set_index('country').mean(axis=1).reset_index()\n",
    "\n",
    "# Merge datasets on country\n",
    "merged_data = co2_percap_mean.merge(gdp_percap_mean, on='country').merge(inc_day_mean, on='country')\n",
    "merged_data.columns = ['country', 'CO2_per_capita', 'GDP_per_capita', 'Income_per_capita']"
   ]
  },
  {
   "cell_type": "markdown",
   "metadata": {},
   "source": [
    "We next set up our dependent and indepent variables for each model."
   ]
  },
  {
   "cell_type": "code",
   "execution_count": null,
   "metadata": {},
   "outputs": [],
   "source": [
    "# Prepare two predictor sets: a univariate and a multivariate set\n",
    "X_univariate = merged_data[['CO2_per_capita']].values\n",
    "X_multivariate = merged_data[['CO2_per_capita', 'GDP_per_capita']].values\n",
    "y = merged_data['Income_per_capita'].values\n",
    "\n",
    "# Add intercept term for each\n",
    "X_univariate = np.hstack((np.ones((X_univariate.shape[0], 1)), X_univariate))\n",
    "X_multivariate = np.hstack((np.ones((X_multivariate.shape[0], 1)), X_multivariate))\n",
    "\n",
    "# Normalize features based on calc mean\n",
    "scaler = MinMaxScaler()\n",
    "X_univariate[:, 1:] = scaler.fit_transform(X_univariate[:, 1:])\n",
    "X_multivariate[:, 1:] = scaler.fit_transform(X_multivariate[:, 1:])\n",
    "\n",
    "# Gradient descent\n",
    "def grad_descent(X, y, T, alpha):\n",
    "    m, n = X.shape  # m = #examples, n = #features\n",
    "    theta = np.zeros(n)\n",
    "    f = np.zeros(T)  # loss\n",
    "    for i in range(T):\n",
    "        # loss for current parameter vector theta\n",
    "        f[i] = 0.5 * np.linalg.norm(X.dot(theta) - y)**2\n",
    "        # compute steepest ascent at f(theta)\n",
    "        g = np.transpose(X).dot(X.dot(theta) - y)\n",
    "        # step down the gradient\n",
    "        theta = theta - alpha * g\n",
    "    return theta, f # return loss as well"
   ]
  },
  {
   "cell_type": "markdown",
   "metadata": {},
   "source": [
    "## Part 5 - Visualizations"
   ]
  },
  {
   "cell_type": "markdown",
   "metadata": {},
   "source": [
    "Finally, we train each of the models, and display loss over epochs for each."
   ]
  },
  {
   "cell_type": "code",
   "execution_count": 20,
   "metadata": {},
   "outputs": [
    {
     "data": {
      "image/png": "[encoded data removed]",
      "text/plain": [
       "<Figure size 1400x600 with 2 Axes>"
      ]
     },
     "metadata": {},
     "output_type": "display_data"
    },
    {
     "name": "stdout",
     "output_type": "stream",
     "text": [
      "MSE for Univariate Model: 9.704041352165593\n",
      "MSE for Multivariate Model: 8.896846419331379\n"
     ]
    }
   ],
   "source": [
    "# Training parameters\n",
    "T = 1000\n",
    "alpha = 0.001 # lower alpha for multivariate as well\n",
    "\n",
    "# Train univariate model\n",
    "theta_uni, loss_uni = grad_descent(X_univariate, y, T, alpha)\n",
    "\n",
    "# Train multivariate model\n",
    "theta_multi, loss_multi = grad_descent(X_multivariate, y, T, alpha)\n",
    "\n",
    "# Plot loss over epochs\n",
    "plt.figure(figsize=(14, 6))\n",
    "\n",
    "plt.subplot(1, 2, 1)\n",
    "plt.plot(range(T), loss_uni, label='Univariate Model')\n",
    "plt.xlabel('Epochs')\n",
    "plt.ylabel('Loss')\n",
    "plt.title('Univariate Model Loss Over Epochs')\n",
    "plt.legend()\n",
    "\n",
    "plt.subplot(1, 2, 2)\n",
    "plt.plot(range(T), loss_multi, label='Multivariate Model')\n",
    "plt.xlabel('Epochs')\n",
    "plt.ylabel('Loss')\n",
    "plt.title('Multivariate Model Loss Over Epochs')\n",
    "plt.legend()\n",
    "\n",
    "plt.tight_layout()\n",
    "plt.show()\n",
    "\n",
    "# Calculate MSE for univariate and multivariate models\n",
    "mse_training_univariate = np.mean((X_univariate.dot(theta_uni) - y)**2)\n",
    "mse_training_multivariate = np.mean((X_multivariate.dot(theta_multi) - y)**2)\n",
    "\n",
    "print(f'MSE for Univariate Model: {mse_training_univariate}')\n",
    "print(f'MSE for Multivariate Model: {mse_training_multivariate}')"
   ]
  },
  {
   "cell_type": "markdown",
   "metadata": {},
   "source": [
    "Next, we want to test our models on two different test datasets: for one dataset, we will use income from 2015-2019 (inclusive), and for the other, we will use 2020-2022 data (inclusive, taking into account that things may be different because of COVID-19, so it is feasible that the model's performance could be significantly different between both of these datasets)."
   ]
  },
  {
   "cell_type": "code",
   "execution_count": 21,
   "metadata": {},
   "outputs": [
    {
     "name": "stdout",
     "output_type": "stream",
     "text": [
      "MSE for Univariate Model (2015-2019): 13.867476484954366\n",
      "MSE for Multivariate Model (2015-2019): 14.777744214159666\n",
      "MSE for Univariate Model (2020-2022): 12.237848963255306\n",
      "MSE for Multivariate Model (2020-2022): 13.134232214946179\n"
     ]
    }
   ],
   "source": [
    "# Creates a merged dataset given a time range (inclusive)\n",
    "def merge_datasets(time_range):\n",
    "    co2_percap_train = co2_percap.filter(items=['country'] + [str(year) for year in range(time_range[0], time_range[1] + 1)])\n",
    "    gdp_percap_train = gdp_percap.filter(items=['country'] + [str(year) for year in range(time_range[0], time_range[1] + 1)])\n",
    "    inc_day_train = inc_day.filter(items=['country'] + [str(year) for year in range(time_range[0], time_range[1] + 1)])\n",
    "\n",
    "    co2_percap_mean = co2_percap_train.set_index('country').mean(axis=1).reset_index()\n",
    "    gdp_percap_mean = gdp_percap_train.set_index('country').mean(axis=1).reset_index()\n",
    "    inc_day_mean = inc_day_train.set_index('country').mean(axis=1).reset_index()\n",
    "\n",
    "    merged_data = co2_percap_mean.merge(gdp_percap_mean, on='country').merge(inc_day_mean, on='country')\n",
    "    merged_data.columns = ['country', 'CO2_per_capita', 'GDP_per_capita', 'Income_per_capita']\n",
    "\n",
    "    return merged_data\n",
    "\n",
    "# Obtain desired data for the two testing time periods\n",
    "merged_data_2015_2019 = merge_datasets([2015, 2019]).dropna()\n",
    "merged_data_2020_2022 = merge_datasets([2020, 2022]).dropna()\n",
    "scaler = MinMaxScaler()\n",
    "\n",
    "# Test univariate model on 2015-2019 data\n",
    "X_univariate_test = merged_data_2015_2019[['CO2_per_capita']].values\n",
    "X_univariate_test = np.hstack((np.ones((X_univariate_test.shape[0], 1)), X_univariate_test))\n",
    "X_univariate_test[:, 1:] = scaler.fit_transform(X_univariate_test[:, 1:])\n",
    "y_univariate_pred = X_univariate_test.dot(theta_uni)\n",
    "\n",
    "# Test multivariate model on 2015-2019 data\n",
    "X_multivariate_test = merged_data_2015_2019[['CO2_per_capita', 'GDP_per_capita']].values\n",
    "X_multivariate_test = np.hstack((np.ones((X_multivariate_test.shape[0], 1)), X_multivariate_test))\n",
    "X_multivariate_test[:, 1:] = scaler.fit_transform(X_multivariate_test[:, 1:])\n",
    "y_multivariate_pred = X_multivariate_test.dot(theta_multi)\n",
    "\n",
    "# Calculate MSE for both models\n",
    "mse_univariate = np.mean((y_univariate_pred - merged_data_2015_2019['Income_per_capita'].values)**2)\n",
    "mse_multivariate = np.mean((y_multivariate_pred - merged_data_2015_2019['Income_per_capita'].values)**2)\n",
    "\n",
    "# Print MSE for both models\n",
    "print(f'MSE for Univariate Model (2015-2019): {mse_univariate}')\n",
    "print(f'MSE for Multivariate Model (2015-2019): {mse_multivariate}')\n",
    "\n",
    "# Test univariate model on 2020-2022 data\n",
    "X_univariate_test = merged_data_2020_2022[['CO2_per_capita']].values\n",
    "X_univariate_test = np.hstack((np.ones((X_univariate_test.shape[0], 1)), X_univariate_test))\n",
    "X_univariate_test[:, 1:] = scaler.fit_transform(X_univariate_test[:, 1:])\n",
    "y_univariate_pred = X_univariate_test.dot(theta_uni)\n",
    "\n",
    "# Test multivariate model on 2020-2022 data\n",
    "X_multivariate_test = merged_data_2020_2022[['CO2_per_capita', 'GDP_per_capita']].values\n",
    "X_multivariate_test = np.hstack((np.ones((X_multivariate_test.shape[0], 1)), X_multivariate_test))\n",
    "X_multivariate_test[:, 1:] = scaler.fit_transform(X_multivariate_test[:, 1:])\n",
    "y_multivariate_pred = X_multivariate_test.dot(theta_multi)\n",
    "\n",
    "# Calculate MSE for both models\n",
    "mse_univariate = np.mean((y_univariate_pred - merged_data_2020_2022['Income_per_capita'].values)**2)\n",
    "mse_multivariate = np.mean((y_multivariate_pred - merged_data_2020_2022['Income_per_capita'].values)**2)\n",
    "\n",
    "# Print MSE for both models\n",
    "print(f'MSE for Univariate Model (2020-2022): {mse_univariate}')\n",
    "print(f'MSE for Multivariate Model (2020-2022): {mse_multivariate}')"
   ]
  },
  {
   "cell_type": "markdown",
   "metadata": {},
   "source": [
    "## Part 6 - Conclusions"
   ]
  },
  {
   "cell_type": "markdown",
   "metadata": {},
   "source": [
    "We can see that the MSE for the univariate and multivariate models are different for both test datasets, in the same direction.  \n",
    "The MSE for the univariate model pre-COVID years is less than the multivariate model for the same years.  \n",
    "Likewise, the MSE for the univariate model in the post-COVID years is less than the multivariate model for the same years.  \n",
    "This means that, for both instances, predicting daily income based solely off of CO2 emissions without the inclusion of GDP per capita is more accurate.  \n",
    "This is interesting, because this means that CO2 emissions is a fairly good predictor of daily income.  \n"
   ]
  }
 ],
 "metadata": {
  "kernelspec": {
   "display_name": "base",
   "language": "python",
   "name": "python3"
  },
  "language_info": {
   "codemirror_mode": {
    "name": "ipython",
    "version": 3
   },
   "file_extension": ".py",
   "mimetype": "text/x-python",
   "name": "python",
   "nbconvert_exporter": "python",
   "pygments_lexer": "ipython3",
   "version": "3.11.5"
  }
 },
 "nbformat": 4,
 "nbformat_minor": 2
}
